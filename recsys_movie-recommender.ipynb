{
  "nbformat": 4,
  "nbformat_minor": 0,
  "metadata": {
    "colab": {
      "name": "recsys_movie-recommender",
      "provenance": [],
      "collapsed_sections": [
        "Cb-pO2A9xSKV",
        "E_Of4Tm65xFn"
      ]
    },
    "kernelspec": {
      "name": "python3",
      "display_name": "Python 3"
    }
  },
  "cells": [
    {
      "cell_type": "markdown",
      "metadata": {
        "id": "Cb-pO2A9xSKV"
      },
      "source": [
        "# Content-Based Filtering Movie Recommender System\n",
        "\n",
        "This notebook was made to accomplish my task of Recommender System. Feel free to use it for education purposes. Have a great day!"
      ]
    },
    {
      "cell_type": "markdown",
      "metadata": {
        "id": "MdlVPUS2zbQO"
      },
      "source": [
        "# Read the data"
      ]
    },
    {
      "cell_type": "code",
      "metadata": {
        "id": "_-m9GVThNru1",
        "outputId": "7dcac9e8-03cf-4fae-c909-818c3ef98ec0",
        "colab": {
          "base_uri": "https://localhost:8080/",
          "height": 200
        }
      },
      "source": [
        "pip install rake-nltk"
      ],
      "execution_count": 1,
      "outputs": [
        {
          "output_type": "stream",
          "text": [
            "Collecting rake-nltk\n",
            "  Downloading https://files.pythonhosted.org/packages/8e/c4/b4ff57e541ac5624ad4b20b89c2bafd4e98f29fd83139f3a81858bdb3815/rake_nltk-1.0.4.tar.gz\n",
            "Requirement already satisfied: nltk in /usr/local/lib/python3.6/dist-packages (from rake-nltk) (3.2.5)\n",
            "Requirement already satisfied: six in /usr/local/lib/python3.6/dist-packages (from nltk->rake-nltk) (1.15.0)\n",
            "Building wheels for collected packages: rake-nltk\n",
            "  Building wheel for rake-nltk (setup.py) ... \u001b[?25l\u001b[?25hdone\n",
            "  Created wheel for rake-nltk: filename=rake_nltk-1.0.4-py2.py3-none-any.whl size=7819 sha256=c66c31aa89e9aff4ea3ee770de7ad2bf94f794858e5aa849d7aabb8e2e399a49\n",
            "  Stored in directory: /root/.cache/pip/wheels/ef/92/fc/271b3709e71a96ffe934b27818946b795ac6b9b8ff8682483f\n",
            "Successfully built rake-nltk\n",
            "Installing collected packages: rake-nltk\n",
            "Successfully installed rake-nltk-1.0.4\n"
          ],
          "name": "stdout"
        }
      ]
    },
    {
      "cell_type": "code",
      "metadata": {
        "id": "C5QjN2HlwEmo",
        "outputId": "f515c296-2c81-4e37-86e9-01e2062343f9",
        "colab": {
          "base_uri": "https://localhost:8080/",
          "height": 197
        }
      },
      "source": [
        "import pandas as pd\n",
        "import numpy as np\n",
        "\n",
        "import math\n",
        "import nltk\n",
        "import operator\n",
        "import collections\n",
        "from collections import Counter\n",
        "\n",
        "from tqdm import tqdm\n",
        "from rake_nltk import Rake\n",
        "\n",
        "\n",
        "df = pd.read_csv('https://query.data.world/s/uikepcpffyo2nhig52xxeevdialfl7')\n",
        "\n",
        "df = df[['Title','Genre','Director','Actors','Plot']]\n",
        "df.head()"
      ],
      "execution_count": 2,
      "outputs": [
        {
          "output_type": "execute_result",
          "data": {
            "text/html": [
              "<div>\n",
              "<style scoped>\n",
              "    .dataframe tbody tr th:only-of-type {\n",
              "        vertical-align: middle;\n",
              "    }\n",
              "\n",
              "    .dataframe tbody tr th {\n",
              "        vertical-align: top;\n",
              "    }\n",
              "\n",
              "    .dataframe thead th {\n",
              "        text-align: right;\n",
              "    }\n",
              "</style>\n",
              "<table border=\"1\" class=\"dataframe\">\n",
              "  <thead>\n",
              "    <tr style=\"text-align: right;\">\n",
              "      <th></th>\n",
              "      <th>Title</th>\n",
              "      <th>Genre</th>\n",
              "      <th>Director</th>\n",
              "      <th>Actors</th>\n",
              "      <th>Plot</th>\n",
              "    </tr>\n",
              "  </thead>\n",
              "  <tbody>\n",
              "    <tr>\n",
              "      <th>0</th>\n",
              "      <td>The Shawshank Redemption</td>\n",
              "      <td>Crime, Drama</td>\n",
              "      <td>Frank Darabont</td>\n",
              "      <td>Tim Robbins, Morgan Freeman, Bob Gunton, Willi...</td>\n",
              "      <td>Two imprisoned men bond over a number of years...</td>\n",
              "    </tr>\n",
              "    <tr>\n",
              "      <th>1</th>\n",
              "      <td>The Godfather</td>\n",
              "      <td>Crime, Drama</td>\n",
              "      <td>Francis Ford Coppola</td>\n",
              "      <td>Marlon Brando, Al Pacino, James Caan, Richard ...</td>\n",
              "      <td>The aging patriarch of an organized crime dyna...</td>\n",
              "    </tr>\n",
              "    <tr>\n",
              "      <th>2</th>\n",
              "      <td>The Godfather: Part II</td>\n",
              "      <td>Crime, Drama</td>\n",
              "      <td>Francis Ford Coppola</td>\n",
              "      <td>Al Pacino, Robert Duvall, Diane Keaton, Robert...</td>\n",
              "      <td>The early life and career of Vito Corleone in ...</td>\n",
              "    </tr>\n",
              "    <tr>\n",
              "      <th>3</th>\n",
              "      <td>The Dark Knight</td>\n",
              "      <td>Action, Crime, Drama</td>\n",
              "      <td>Christopher Nolan</td>\n",
              "      <td>Christian Bale, Heath Ledger, Aaron Eckhart, M...</td>\n",
              "      <td>When the menace known as the Joker emerges fro...</td>\n",
              "    </tr>\n",
              "    <tr>\n",
              "      <th>4</th>\n",
              "      <td>12 Angry Men</td>\n",
              "      <td>Crime, Drama</td>\n",
              "      <td>Sidney Lumet</td>\n",
              "      <td>Martin Balsam, John Fiedler, Lee J. Cobb, E.G....</td>\n",
              "      <td>A jury holdout attempts to prevent a miscarria...</td>\n",
              "    </tr>\n",
              "  </tbody>\n",
              "</table>\n",
              "</div>"
            ],
            "text/plain": [
              "                      Title  ...                                               Plot\n",
              "0  The Shawshank Redemption  ...  Two imprisoned men bond over a number of years...\n",
              "1             The Godfather  ...  The aging patriarch of an organized crime dyna...\n",
              "2    The Godfather: Part II  ...  The early life and career of Vito Corleone in ...\n",
              "3           The Dark Knight  ...  When the menace known as the Joker emerges fro...\n",
              "4              12 Angry Men  ...  A jury holdout attempts to prevent a miscarria...\n",
              "\n",
              "[5 rows x 5 columns]"
            ]
          },
          "metadata": {
            "tags": []
          },
          "execution_count": 2
        }
      ]
    },
    {
      "cell_type": "markdown",
      "metadata": {
        "id": "E_Of4Tm65xFn"
      },
      "source": [
        "# Data Pre-processing"
      ]
    },
    {
      "cell_type": "code",
      "metadata": {
        "id": "C2sMhMVW5p-m",
        "outputId": "45a3b329-15d2-43e7-d7ff-42cf4b63e822",
        "colab": {
          "base_uri": "https://localhost:8080/",
          "height": 197
        }
      },
      "source": [
        "df.columns = df.columns.str.lower()\n",
        "df['actors'] = df['actors'].str.replace(' ', '').str.lower().str.split(',').str[:3].apply(' '.join)\n",
        "df['director'] = df['director'].str.replace(' ', '').str.lower()\n",
        "df['genre'] = df['genre'].str.lower().str.replace(',', ' ')\n",
        "df['genre'] = df['genre'].str.replace(' ', '')\n",
        "\n",
        "df['plot'] = df['plot'].str.replace(\"\\r\", \"\")\n",
        "df['plot'] = df['plot'].str.replace(\"\\n\", \"\")\n",
        "df['plot'] = df['plot'].replace(\" \", \"\")\n",
        "df['plot'] = df['plot'].str.replace('\"', '')\n",
        "\n",
        "punctuation_signs = list(\"?:!.,;\")\n",
        "df['plot'] = df['plot']\n",
        "\n",
        "for punct_sign in punctuation_signs:\n",
        "    df['plot'] = df['plot'].str.replace(punct_sign, '')\n",
        "\n",
        "# Remove possessive pronouns\n",
        "df['plot'] = df['plot'].str.replace(\"'s\", \"\")\n",
        "\n",
        "df['plot'] = [item.lower() for item in df['plot']]\n",
        "# df.set_index('title', inplace = True)\n",
        "df.head()"
      ],
      "execution_count": 3,
      "outputs": [
        {
          "output_type": "execute_result",
          "data": {
            "text/html": [
              "<div>\n",
              "<style scoped>\n",
              "    .dataframe tbody tr th:only-of-type {\n",
              "        vertical-align: middle;\n",
              "    }\n",
              "\n",
              "    .dataframe tbody tr th {\n",
              "        vertical-align: top;\n",
              "    }\n",
              "\n",
              "    .dataframe thead th {\n",
              "        text-align: right;\n",
              "    }\n",
              "</style>\n",
              "<table border=\"1\" class=\"dataframe\">\n",
              "  <thead>\n",
              "    <tr style=\"text-align: right;\">\n",
              "      <th></th>\n",
              "      <th>title</th>\n",
              "      <th>genre</th>\n",
              "      <th>director</th>\n",
              "      <th>actors</th>\n",
              "      <th>plot</th>\n",
              "    </tr>\n",
              "  </thead>\n",
              "  <tbody>\n",
              "    <tr>\n",
              "      <th>0</th>\n",
              "      <td>The Shawshank Redemption</td>\n",
              "      <td>crimedrama</td>\n",
              "      <td>frankdarabont</td>\n",
              "      <td>timrobbins morganfreeman bobgunton</td>\n",
              "      <td>two imprisoned men bond over a number of years...</td>\n",
              "    </tr>\n",
              "    <tr>\n",
              "      <th>1</th>\n",
              "      <td>The Godfather</td>\n",
              "      <td>crimedrama</td>\n",
              "      <td>francisfordcoppola</td>\n",
              "      <td>marlonbrando alpacino jamescaan</td>\n",
              "      <td>the aging patriarch of an organized crime dyna...</td>\n",
              "    </tr>\n",
              "    <tr>\n",
              "      <th>2</th>\n",
              "      <td>The Godfather: Part II</td>\n",
              "      <td>crimedrama</td>\n",
              "      <td>francisfordcoppola</td>\n",
              "      <td>alpacino robertduvall dianekeaton</td>\n",
              "      <td>the early life and career of vito corleone in ...</td>\n",
              "    </tr>\n",
              "    <tr>\n",
              "      <th>3</th>\n",
              "      <td>The Dark Knight</td>\n",
              "      <td>actioncrimedrama</td>\n",
              "      <td>christophernolan</td>\n",
              "      <td>christianbale heathledger aaroneckhart</td>\n",
              "      <td>when the menace known as the joker emerges fro...</td>\n",
              "    </tr>\n",
              "    <tr>\n",
              "      <th>4</th>\n",
              "      <td>12 Angry Men</td>\n",
              "      <td>crimedrama</td>\n",
              "      <td>sidneylumet</td>\n",
              "      <td>martinbalsam johnfiedler leej.cobb</td>\n",
              "      <td>a jury holdout attempts to prevent a miscarria...</td>\n",
              "    </tr>\n",
              "  </tbody>\n",
              "</table>\n",
              "</div>"
            ],
            "text/plain": [
              "                      title  ...                                               plot\n",
              "0  The Shawshank Redemption  ...  two imprisoned men bond over a number of years...\n",
              "1             The Godfather  ...  the aging patriarch of an organized crime dyna...\n",
              "2    The Godfather: Part II  ...  the early life and career of vito corleone in ...\n",
              "3           The Dark Knight  ...  when the menace known as the joker emerges fro...\n",
              "4              12 Angry Men  ...  a jury holdout attempts to prevent a miscarria...\n",
              "\n",
              "[5 rows x 5 columns]"
            ]
          },
          "metadata": {
            "tags": []
          },
          "execution_count": 3
        }
      ]
    },
    {
      "cell_type": "code",
      "metadata": {
        "id": "HdevWddNWV-J",
        "outputId": "ca942005-2de2-492c-f0ed-501837f85e4f",
        "colab": {
          "base_uri": "https://localhost:8080/",
          "height": 227
        }
      },
      "source": [
        "def extract_keywords(input_str):\n",
        "    r = Rake()\n",
        "    r.extract_keywords_from_text(input_str.lower())\n",
        "    key_words_dict_scores = r.get_word_degrees()\n",
        "    sorted_key_words_dict_scores = sorted(key_words_dict_scores.items(), key=operator.itemgetter(1), reverse=True)\n",
        "    sorted_dict = collections.OrderedDict(sorted_key_words_dict_scores)\n",
        "    return sorted_dict, list(sorted_dict.keys())[:round(len(sorted_dict.keys())/2)]\n",
        "\n",
        "df['key_words'] = df['plot'].apply(lambda x: extract_keywords(x)[1]).apply(' '.join)\n",
        "df.drop(columns=['plot'], inplace=True)\n",
        "df.set_index('title', inplace = True)\n",
        "df.head()"
      ],
      "execution_count": 4,
      "outputs": [
        {
          "output_type": "execute_result",
          "data": {
            "text/html": [
              "<div>\n",
              "<style scoped>\n",
              "    .dataframe tbody tr th:only-of-type {\n",
              "        vertical-align: middle;\n",
              "    }\n",
              "\n",
              "    .dataframe tbody tr th {\n",
              "        vertical-align: top;\n",
              "    }\n",
              "\n",
              "    .dataframe thead th {\n",
              "        text-align: right;\n",
              "    }\n",
              "</style>\n",
              "<table border=\"1\" class=\"dataframe\">\n",
              "  <thead>\n",
              "    <tr style=\"text-align: right;\">\n",
              "      <th></th>\n",
              "      <th>genre</th>\n",
              "      <th>director</th>\n",
              "      <th>actors</th>\n",
              "      <th>key_words</th>\n",
              "    </tr>\n",
              "    <tr>\n",
              "      <th>title</th>\n",
              "      <th></th>\n",
              "      <th></th>\n",
              "      <th></th>\n",
              "      <th></th>\n",
              "    </tr>\n",
              "  </thead>\n",
              "  <tbody>\n",
              "    <tr>\n",
              "      <th>The Shawshank Redemption</th>\n",
              "      <td>crimedrama</td>\n",
              "      <td>frankdarabont</td>\n",
              "      <td>timrobbins morganfreeman bobgunton</td>\n",
              "      <td>two imprisoned men bond years finding</td>\n",
              "    </tr>\n",
              "    <tr>\n",
              "      <th>The Godfather</th>\n",
              "      <td>crimedrama</td>\n",
              "      <td>francisfordcoppola</td>\n",
              "      <td>marlonbrando alpacino jamescaan</td>\n",
              "      <td>organized crime dynasty transfers control aging</td>\n",
              "    </tr>\n",
              "    <tr>\n",
              "      <th>The Godfather: Part II</th>\n",
              "      <td>crimedrama</td>\n",
              "      <td>francisfordcoppola</td>\n",
              "      <td>alpacino robertduvall dianekeaton</td>\n",
              "      <td>son michael expands 1920s new york family crime</td>\n",
              "    </tr>\n",
              "    <tr>\n",
              "      <th>The Dark Knight</th>\n",
              "      <td>actioncrimedrama</td>\n",
              "      <td>christophernolan</td>\n",
              "      <td>christianbale heathledger aaroneckhart</td>\n",
              "      <td>dark knight must accept one greatest psycholog...</td>\n",
              "    </tr>\n",
              "    <tr>\n",
              "      <th>12 Angry Men</th>\n",
              "      <td>crimedrama</td>\n",
              "      <td>sidneylumet</td>\n",
              "      <td>martinbalsam johnfiedler leej.cobb</td>\n",
              "      <td>jury holdout attempts miscarriage colleagues</td>\n",
              "    </tr>\n",
              "  </tbody>\n",
              "</table>\n",
              "</div>"
            ],
            "text/plain": [
              "                                     genre  ...                                          key_words\n",
              "title                                       ...                                                   \n",
              "The Shawshank Redemption        crimedrama  ...              two imprisoned men bond years finding\n",
              "The Godfather                   crimedrama  ...    organized crime dynasty transfers control aging\n",
              "The Godfather: Part II          crimedrama  ...    son michael expands 1920s new york family crime\n",
              "The Dark Knight           actioncrimedrama  ...  dark knight must accept one greatest psycholog...\n",
              "12 Angry Men                    crimedrama  ...       jury holdout attempts miscarriage colleagues\n",
              "\n",
              "[5 rows x 4 columns]"
            ]
          },
          "metadata": {
            "tags": []
          },
          "execution_count": 4
        }
      ]
    },
    {
      "cell_type": "code",
      "metadata": {
        "id": "hDoCVN6dFlYb",
        "outputId": "dc4d9d86-5b3b-4bfd-d2d2-9d8a837a5e54",
        "colab": {
          "base_uri": "https://localhost:8080/",
          "height": 227
        }
      },
      "source": [
        "# Create dataframe of bag of contents\n",
        "df['bag_of_contents'] = df['genre']+' '+df['director']+' '+df['actors']+' '+df['key_words']\n",
        "corpus = df[['bag_of_contents']]\n",
        "corpus.head()"
      ],
      "execution_count": 5,
      "outputs": [
        {
          "output_type": "execute_result",
          "data": {
            "text/html": [
              "<div>\n",
              "<style scoped>\n",
              "    .dataframe tbody tr th:only-of-type {\n",
              "        vertical-align: middle;\n",
              "    }\n",
              "\n",
              "    .dataframe tbody tr th {\n",
              "        vertical-align: top;\n",
              "    }\n",
              "\n",
              "    .dataframe thead th {\n",
              "        text-align: right;\n",
              "    }\n",
              "</style>\n",
              "<table border=\"1\" class=\"dataframe\">\n",
              "  <thead>\n",
              "    <tr style=\"text-align: right;\">\n",
              "      <th></th>\n",
              "      <th>bag_of_contents</th>\n",
              "    </tr>\n",
              "    <tr>\n",
              "      <th>title</th>\n",
              "      <th></th>\n",
              "    </tr>\n",
              "  </thead>\n",
              "  <tbody>\n",
              "    <tr>\n",
              "      <th>The Shawshank Redemption</th>\n",
              "      <td>crimedrama frankdarabont timrobbins morganfree...</td>\n",
              "    </tr>\n",
              "    <tr>\n",
              "      <th>The Godfather</th>\n",
              "      <td>crimedrama francisfordcoppola marlonbrando alp...</td>\n",
              "    </tr>\n",
              "    <tr>\n",
              "      <th>The Godfather: Part II</th>\n",
              "      <td>crimedrama francisfordcoppola alpacino robertd...</td>\n",
              "    </tr>\n",
              "    <tr>\n",
              "      <th>The Dark Knight</th>\n",
              "      <td>actioncrimedrama christophernolan christianbal...</td>\n",
              "    </tr>\n",
              "    <tr>\n",
              "      <th>12 Angry Men</th>\n",
              "      <td>crimedrama sidneylumet martinbalsam johnfiedle...</td>\n",
              "    </tr>\n",
              "  </tbody>\n",
              "</table>\n",
              "</div>"
            ],
            "text/plain": [
              "                                                            bag_of_contents\n",
              "title                                                                      \n",
              "The Shawshank Redemption  crimedrama frankdarabont timrobbins morganfree...\n",
              "The Godfather             crimedrama francisfordcoppola marlonbrando alp...\n",
              "The Godfather: Part II    crimedrama francisfordcoppola alpacino robertd...\n",
              "The Dark Knight           actioncrimedrama christophernolan christianbal...\n",
              "12 Angry Men              crimedrama sidneylumet martinbalsam johnfiedle..."
            ]
          },
          "metadata": {
            "tags": []
          },
          "execution_count": 5
        }
      ]
    },
    {
      "cell_type": "markdown",
      "metadata": {
        "id": "dbpQPbuvnrcZ"
      },
      "source": [
        "# *Count of Words and Bag of Words*\n",
        "Count the amount of words appear in the corpus and extract each of them"
      ]
    },
    {
      "cell_type": "code",
      "metadata": {
        "id": "ycfSdTsZ9I3O"
      },
      "source": [
        "get_sentences = []\n",
        "get_words = []\n",
        "for i in range(len(corpus['bag_of_contents'])):\n",
        "    get_sentences.append(corpus['bag_of_contents'][i].split())\n",
        "    \n",
        "for x in range(len(get_sentences)):\n",
        "    for y in range(len(get_sentences[x])):\n",
        "        get_words.append(get_sentences[x][y])"
      ],
      "execution_count": 6,
      "outputs": []
    },
    {
      "cell_type": "code",
      "metadata": {
        "id": "e6jelcJX_TLu",
        "outputId": "17486bd9-0f24-44d9-f48f-72d42ad63724",
        "colab": {
          "base_uri": "https://localhost:8080/",
          "height": 1000
        }
      },
      "source": [
        "count = Counter(get_words)\n",
        "count_of_words = dict(count)\n",
        "count_of_words"
      ],
      "execution_count": 7,
      "outputs": [
        {
          "output_type": "execute_result",
          "data": {
            "text/plain": [
              "{'crimedrama': 14,\n",
              " 'frankdarabont': 2,\n",
              " 'timrobbins': 1,\n",
              " 'morganfreeman': 4,\n",
              " 'bobgunton': 1,\n",
              " 'two': 15,\n",
              " 'imprisoned': 1,\n",
              " 'men': 4,\n",
              " 'bond': 2,\n",
              " 'years': 7,\n",
              " 'finding': 1,\n",
              " 'francisfordcoppola': 3,\n",
              " 'marlonbrando': 4,\n",
              " 'alpacino': 4,\n",
              " 'jamescaan': 1,\n",
              " 'organized': 1,\n",
              " 'crime': 7,\n",
              " 'dynasty': 1,\n",
              " 'transfers': 1,\n",
              " 'control': 2,\n",
              " 'aging': 3,\n",
              " 'robertduvall': 2,\n",
              " 'dianekeaton': 2,\n",
              " 'son': 6,\n",
              " 'michael': 1,\n",
              " 'expands': 1,\n",
              " '1920s': 1,\n",
              " 'new': 13,\n",
              " 'york': 4,\n",
              " 'family': 5,\n",
              " 'actioncrimedrama': 2,\n",
              " 'christophernolan': 7,\n",
              " 'christianbale': 4,\n",
              " 'heathledger': 1,\n",
              " 'aaroneckhart': 1,\n",
              " 'dark': 3,\n",
              " 'knight': 1,\n",
              " 'must': 13,\n",
              " 'accept': 2,\n",
              " 'one': 9,\n",
              " 'greatest': 1,\n",
              " 'psychological': 1,\n",
              " 'wreaks': 1,\n",
              " 'havoc': 1,\n",
              " 'mysterious': 5,\n",
              " 'past': 2,\n",
              " 'physical': 1,\n",
              " 'sidneylumet': 3,\n",
              " 'martinbalsam': 1,\n",
              " 'johnfiedler': 1,\n",
              " 'leej.cobb': 3,\n",
              " 'jury': 1,\n",
              " 'holdout': 1,\n",
              " 'attempts': 3,\n",
              " 'miscarriage': 1,\n",
              " 'colleagues': 1,\n",
              " 'biographydramahistory': 7,\n",
              " 'stevenspielberg': 7,\n",
              " 'liamneeson': 2,\n",
              " 'benkingsley': 3,\n",
              " 'ralphfiennes': 3,\n",
              " 'mexican': 2,\n",
              " 'border': 2,\n",
              " 'however': 1,\n",
              " 'mutant': 1,\n",
              " ...}"
            ]
          },
          "metadata": {
            "tags": []
          },
          "execution_count": 7
        }
      ]
    },
    {
      "cell_type": "code",
      "metadata": {
        "id": "nLlpzWFT_RF6",
        "outputId": "9729a304-c872-48f8-89de-79213764ce5f",
        "colab": {
          "base_uri": "https://localhost:8080/",
          "height": 516
        }
      },
      "source": [
        "bag_of_words = []\n",
        "for key in count_of_words:\n",
        "    bag_of_words.append(key)\n",
        "bag_of_words[:30]"
      ],
      "execution_count": 8,
      "outputs": [
        {
          "output_type": "execute_result",
          "data": {
            "text/plain": [
              "['crimedrama',\n",
              " 'frankdarabont',\n",
              " 'timrobbins',\n",
              " 'morganfreeman',\n",
              " 'bobgunton',\n",
              " 'two',\n",
              " 'imprisoned',\n",
              " 'men',\n",
              " 'bond',\n",
              " 'years',\n",
              " 'finding',\n",
              " 'francisfordcoppola',\n",
              " 'marlonbrando',\n",
              " 'alpacino',\n",
              " 'jamescaan',\n",
              " 'organized',\n",
              " 'crime',\n",
              " 'dynasty',\n",
              " 'transfers',\n",
              " 'control',\n",
              " 'aging',\n",
              " 'robertduvall',\n",
              " 'dianekeaton',\n",
              " 'son',\n",
              " 'michael',\n",
              " 'expands',\n",
              " '1920s',\n",
              " 'new',\n",
              " 'york',\n",
              " 'family']"
            ]
          },
          "metadata": {
            "tags": []
          },
          "execution_count": 8
        }
      ]
    },
    {
      "cell_type": "markdown",
      "metadata": {
        "id": "548JSS8GDsa_"
      },
      "source": [
        "## Term Frequency (TF)<br>\n",
        "\n",
        "\\begin{equation}\n",
        "\\Large tf(t,d) = \\frac{f_{t,d}}{\\sum\\limits_{t \\in d} {f_{t,d}}}\n",
        "\\end{equation}<br>\n",
        "\n",
        "where: <br/>\n",
        "$f_{t,d}$ : the frequency of the term (t) appears in the document (d)<br>\n",
        "$\\sum\\limits_{t \\in d} {f_{t,d}} $ : number of terms (t) in the document \n",
        "\n",
        "Source: <a href=\"https://en.wikipedia.org/wiki/Tf%E2%80%93idf\">https://en.wikipedia.org/wiki/Tf%E2%80%93idf</a>"
      ]
    },
    {
      "cell_type": "code",
      "metadata": {
        "id": "EDULO0cMLiIC"
      },
      "source": [
        "def tf(word, docs):\n",
        "    result = {}\n",
        "    for token in tqdm(word):\n",
        "        sent_tf_vector = []\n",
        "        for document in docs:\n",
        "            doc_freq = 0\n",
        "            for word in nltk.word_tokenize(document):\n",
        "                if token == word:\n",
        "                      doc_freq += 1\n",
        "            word_tf = doc_freq/len(nltk.word_tokenize(document))\n",
        "            sent_tf_vector.append(word_tf)\n",
        "        result[token] = sent_tf_vector\n",
        "    return result"
      ],
      "execution_count": 34,
      "outputs": []
    },
    {
      "cell_type": "code",
      "metadata": {
        "id": "9BvLoexISRZP",
        "outputId": "80ef6156-24bb-4265-99d6-274ed3ea6e42",
        "colab": {
          "base_uri": "https://localhost:8080/",
          "height": 33
        }
      },
      "source": [
        "tf_result = tf(bag_of_words, corpus['bag_of_contents'])\n",
        "\n",
        "# uncomment this below to know the result of TF\n",
        "\n",
        "# print(\"\\n\\nTF of the word 'imprisoned' in the first of the document: {}\\n\".format(tf_result['imprisoned'][0]))\n",
        "# print(\"TF of the word 'imprisoned' in the whole document:\\n{}\".format(tf_result))"
      ],
      "execution_count": 36,
      "outputs": [
        {
          "output_type": "stream",
          "text": [
            "100%|██████████| 2086/2086 [02:42<00:00, 12.81it/s]\n"
          ],
          "name": "stderr"
        }
      ]
    },
    {
      "cell_type": "markdown",
      "metadata": {
        "id": "HEJO9qnYs-ZQ"
      },
      "source": [
        "### *Inverse Document Frequency (IDF)*<br>\n",
        "\n",
        "<img style=\"margin-bottom: 15px\" src=\"https://wikimedia.org/api/rest_v1/media/math/render/svg/ac67bc0f76b5b8e31e842d6b7d28f8949dab7937\"><br>\n",
        "where: <br/>\n",
        "N: the total number of documents in the corpus<br>\n",
        "$ |\\{d \\in D: t \\in d\\}| $: number of documents (d) where the term (t) appears.<br>\n",
        "\n",
        "Sumber: <a href=\"https://en.wikipedia.org/wiki/Tf%E2%80%93idf\">https://en.wikipedia.org/wiki/Tf%E2%80%93idf</a>"
      ]
    },
    {
      "cell_type": "code",
      "metadata": {
        "id": "4EQaEZigtS0V"
      },
      "source": [
        "def idf(df, word):\n",
        "    result = {}\n",
        "    for token in tqdm(word):\n",
        "        doc_containing_word = 0\n",
        "        for document in df:\n",
        "            if token in nltk.word_tokenize(document):\n",
        "                doc_containing_word += 1\n",
        "    # return doc_containing_word\n",
        "        result[token] = np.log(len(df)/(1 + doc_containing_word)) + 1\n",
        "    return result"
      ],
      "execution_count": 37,
      "outputs": []
    },
    {
      "cell_type": "code",
      "metadata": {
        "id": "TFTeBSJ7a0cb",
        "outputId": "214fbb9f-ba14-4328-ab95-9e75423f79ea",
        "colab": {
          "base_uri": "https://localhost:8080/",
          "height": 33
        }
      },
      "source": [
        "idf_result = idf(corpus['bag_of_contents'], count_of_words)\n",
        "\n",
        "# uncomment this below to know the result of IDF\n",
        "\n",
        "# print(\"\\nIDF of the word 'imprisoned' in the document: {}\\n\".format(idf_result['crimedrama']))\n",
        "# print(\"IDF of every words in the document:\\n{}\".format(idf_result))"
      ],
      "execution_count": 38,
      "outputs": [
        {
          "output_type": "stream",
          "text": [
            "100%|██████████| 2086/2086 [01:22<00:00, 25.16it/s]\n"
          ],
          "name": "stderr"
        }
      ]
    },
    {
      "cell_type": "markdown",
      "metadata": {
        "id": "m6yQKXICflY8"
      },
      "source": [
        "## TF-IDF<br>\n",
        "\n",
        "\\begin{equation}\n",
        "{\\Large \\displaystyle \\mathrm {tfidf} (t,d,D)=\\mathrm {tf} (t,d)\\cdot \\mathrm {idf} (t,D)}\n",
        "\\end{equation}<br>\n",
        "\n",
        "where: <br/>\n",
        "$tf_{t,d}$: Term Frequency (TF) <br>\n",
        "$idf_{t,D}$: Inverse Document Frequency (IDF)\n",
        "\n",
        "Sumber: <a href=\"https://en.wikipedia.org/wiki/Tf%E2%80%93idf\">https://en.wikipedia.org/wiki/Tf%E2%80%93idf</a>"
      ]
    },
    {
      "cell_type": "code",
      "metadata": {
        "id": "tRFI0P62_ZwD"
      },
      "source": [
        ""
      ],
      "execution_count": null,
      "outputs": []
    },
    {
      "cell_type": "code",
      "metadata": {
        "id": "fg7aLvu_tUMo"
      },
      "source": [
        "def tfidf(tf,idf):\n",
        "    result = []\n",
        "    for token in tqdm(tf.keys()):\n",
        "        tfidf_sentences = []\n",
        "        for tf_sentence in tf[token]:\n",
        "            tf_idf_score = tf_sentence * idf[token]\n",
        "            tfidf_sentences.append(tf_idf_score)\n",
        "        result.append(tfidf_sentences)\n",
        "    return result"
      ],
      "execution_count": 39,
      "outputs": []
    },
    {
      "cell_type": "code",
      "metadata": {
        "id": "i3QMuTpDza6p",
        "outputId": "8f33319b-d3b6-4126-ee31-1d7b9946b315",
        "colab": {
          "base_uri": "https://localhost:8080/",
          "height": 33
        }
      },
      "source": [
        "tfidf_result = tfidf(tf_result,idf_result)\n",
        "\n",
        "# uncomment this below to know the result of TF-IDF\n",
        "\n",
        "# tfidf_result"
      ],
      "execution_count": 40,
      "outputs": [
        {
          "output_type": "stream",
          "text": [
            "100%|██████████| 2086/2086 [00:00<00:00, 18651.17it/s]\n"
          ],
          "name": "stderr"
        }
      ]
    },
    {
      "cell_type": "markdown",
      "metadata": {
        "id": "wXPTn8WBjx6I"
      },
      "source": [
        "### Vector Representation"
      ]
    },
    {
      "cell_type": "code",
      "metadata": {
        "id": "RlyR8-qVjkNn"
      },
      "source": [
        "def build_vec_representation(x):\n",
        "    result = np.asarray(x)\n",
        "    return result\n",
        "\n",
        "vector = build_vec_representation(tfidf_result)\n",
        "\n",
        "# uncomment this below to know the result of vector representation\n",
        "\n",
        "# vector"
      ],
      "execution_count": 52,
      "outputs": []
    },
    {
      "cell_type": "markdown",
      "metadata": {
        "id": "uvVAkQhu1kK4"
      },
      "source": [
        "## Calculate the similarity"
      ]
    },
    {
      "cell_type": "markdown",
      "metadata": {
        "id": "5sMbUdKSDIDl"
      },
      "source": [
        "### Cosine Similarity<br>\n",
        "<img width=\"400\" height=\"200\" src=\"https://wikimedia.org/api/rest_v1/media/math/render/svg/1d94e5903f7936d3c131e040ef2c51b473dd071d\">\n",
        "\n",
        "di mana:<br>\n",
        "$A_i$ : Komponen vektor A<br>\n",
        "$B_i$ : Komponen vektor B"
      ]
    },
    {
      "cell_type": "code",
      "metadata": {
        "id": "G0pzf6Vji8vf"
      },
      "source": [
        "from numpy import dot\n",
        "from numpy.linalg import norm"
      ],
      "execution_count": 42,
      "outputs": []
    },
    {
      "cell_type": "code",
      "metadata": {
        "id": "pWMouw4db3qu"
      },
      "source": [
        "def cosine_similarity(x):\n",
        "    dot_result = dot(x.T, x)\n",
        "    norm_result = (x * x).sum(0, keepdims=True) ** .5\n",
        "    result = dot_result / norm_result / norm_result.T\n",
        "\n",
        "    return result"
      ],
      "execution_count": 43,
      "outputs": []
    },
    {
      "cell_type": "code",
      "metadata": {
        "id": "lGwAWQJ3Kujv"
      },
      "source": [
        "cosine_sim = cosine_similarity(vector)\n",
        "\n",
        "# uncomment this below to know the result of Cosine Matrix\n",
        "\n",
        "# cosine_sim"
      ],
      "execution_count": 53,
      "outputs": []
    },
    {
      "cell_type": "markdown",
      "metadata": {
        "id": "Cus_ya9ZAD8U"
      },
      "source": [
        "## List of Movie Titles"
      ]
    },
    {
      "cell_type": "code",
      "metadata": {
        "id": "IYlCWJ-ekSXn",
        "outputId": "620112be-48fc-49e7-bf4f-41a2bcab1fee",
        "colab": {
          "base_uri": "https://localhost:8080/",
          "height": 1000
        }
      },
      "source": [
        "import sys\n",
        "import numpy\n",
        "numpy.set_printoptions(threshold=sys.maxsize)\n",
        "np.array(corpus['bag_of_contents'].index)"
      ],
      "execution_count": 45,
      "outputs": [
        {
          "output_type": "execute_result",
          "data": {
            "text/plain": [
              "array(['The Shawshank Redemption', 'The Godfather',\n",
              "       'The Godfather: Part II', 'The Dark Knight', '12 Angry Men',\n",
              "       \"Schindler's List\",\n",
              "       'The Lord of the Rings: The Return of the King', 'Pulp Fiction',\n",
              "       'Fight Club', 'The Lord of the Rings: The Fellowship of the Ring',\n",
              "       'Forrest Gump', 'Star Wars: Episode V - The Empire Strikes Back',\n",
              "       'Inception', 'The Lord of the Rings: The Two Towers',\n",
              "       \"One Flew Over the Cuckoo's Nest\", 'Goodfellas', 'The Matrix',\n",
              "       'Star Wars: Episode IV - A New Hope', 'Se7en',\n",
              "       \"It's a Wonderful Life\", 'The Silence of the Lambs',\n",
              "       'The Usual Suspects', 'Léon: The Professional',\n",
              "       'Saving Private Ryan', 'City Lights', 'Interstellar',\n",
              "       'American History X', 'Modern Times', 'Casablanca',\n",
              "       'The Green Mile', 'Psycho', 'Raiders of the Lost Ark',\n",
              "       'The Pianist', 'Rear Window', 'The Departed', 'Whiplash',\n",
              "       'Terminator 2: Judgment Day', 'Back to the Future', 'Gladiator',\n",
              "       'The Lion King', 'The Prestige', 'Apocalypse Now', 'Memento',\n",
              "       'The Great Dictator', 'Sunset Boulevard', 'Alien',\n",
              "       'Dr. Strangelove or: How I Learned to Stop Worrying and Love the Bomb',\n",
              "       'Paths of Glory', 'Django Unchained', 'The Shining',\n",
              "       'Witness for the Prosecution', 'The Dark Knight Rises', 'WALL·E',\n",
              "       'American Beauty', 'Once Upon a Time in America', 'Aliens',\n",
              "       'Citizen Kane', 'North by Northwest', 'Vertigo',\n",
              "       'Star Wars: Episode VI - Return of the Jedi', 'Braveheart',\n",
              "       'Reservoir Dogs', 'Double Indemnity', 'Requiem for a Dream',\n",
              "       'Lawrence of Arabia', 'The Kid', 'A Clockwork Orange', 'Amadeus',\n",
              "       'To Kill a Mockingbird', 'Eternal Sunshine of the Spotless Mind',\n",
              "       \"Singin' in the Rain\", 'Taxi Driver', 'The Sting', 'Toy Story 3',\n",
              "       '2001: A Space Odyssey', 'Full Metal Jacket', 'Baby Driver',\n",
              "       'Toy Story', 'Inglourious Basterds', 'Snatch', 'The Apartment',\n",
              "       'All About Eve', 'Monty Python and the Holy Grail', 'Scarface',\n",
              "       'L.A. Confidential', 'Good Will Hunting',\n",
              "       'The Treasure of the Sierra Madre',\n",
              "       'Indiana Jones and the Last Crusade', 'Some Like It Hot',\n",
              "       'Batman Begins', 'Up', 'The Third Man', 'Unforgiven',\n",
              "       'Judgment at Nuremberg', 'Raging Bull', 'The Great Escape', 'Heat',\n",
              "       'Die Hard', 'The Gold Rush', 'Chinatown', 'On the Waterfront',\n",
              "       'Mr. Smith Goes to Washington', 'The General', 'Inside Out',\n",
              "       'The Bridge on the River Kwai', 'Room', 'La La Land', 'Logan',\n",
              "       'Blade Runner', 'Lock, Stock and Two Smoking Barrels', 'Casino',\n",
              "       'A Beautiful Mind', 'The Elephant Man', 'Warrior',\n",
              "       'V for Vendetta', 'The Wolf of Wall Street', 'Dial M for Murder',\n",
              "       'Hacksaw Ridge', 'Gone with the Wind', 'The Message', 'Rebecca',\n",
              "       'Trainspotting', 'The Deer Hunter', 'Cool Hand Luke',\n",
              "       'Gran Torino', 'The Big Lebowski', 'The Thing',\n",
              "       'It Happened One Night', 'Fargo', 'The Sixth Sense',\n",
              "       'Finding Nemo', 'Mary and Max', 'No Country for Old Men',\n",
              "       'How to Train Your Dragon', 'There Will Be Blood', 'Into the Wild',\n",
              "       'Kill Bill: Vol. 1', 'Gone Girl', 'Life of Brian', 'Network',\n",
              "       'Shutter Island', 'In the Name of the Father', 'Rush',\n",
              "       'Hotel Rwanda', 'Platoon', 'Song of the Sea', 'Ben-Hur',\n",
              "       'Stand by Me', \"Hachi: A Dog's Tale\", 'Kind Hearts and Coronets',\n",
              "       'The Maltese Falcon', 'Butch Cassidy and the Sundance Kid',\n",
              "       'The Legend of 1900', 'Spotlight', 'Brief Encounter',\n",
              "       'The Best Years of Our Lives', 'The Grapes of Wrath',\n",
              "       '12 Years a Slave', 'The Grand Budapest Hotel',\n",
              "       'Mad Max: Fury Road', 'The Princess Bride',\n",
              "       'What Ever Happened to Baby Jane?', 'Million Dollar Baby',\n",
              "       'Jurassic Park', 'Touch of Evil', 'Spider-Man: Homecoming',\n",
              "       'Before Sunrise', 'The Truman Show',\n",
              "       'Harry Potter and the Deathly Hallows: Part 2',\n",
              "       'Star Wars: The Force Awakens', 'Paris, Texas',\n",
              "       'The Last Picture Show', 'Gandhi', 'Barry Lyndon', 'Rocky',\n",
              "       'Annie Hall', 'Prisoners', 'Donnie Darko', 'Catch Me If You Can',\n",
              "       'The Man Who Shot Liberty Valance', 'Laura', 'Monsters, Inc.',\n",
              "       'The Bourne Ultimatum', 'Cat on a Hot Tin Roof',\n",
              "       'The Wizard of Oz', 'Sleuth', 'Roman Holiday', 'Out of the Past',\n",
              "       'Anatomy of a Murder', \"Who's Afraid of Virginia Woolf?\",\n",
              "       'The Terminator', 'Groundhog Day', 'The Help',\n",
              "       'Strangers on a Train', 'The Night of the Hunter',\n",
              "       'All Quiet on the Western Front', 'Beauty and the Beast', 'Lion',\n",
              "       'Twelve Monkeys', 'Guardians of the Galaxy', 'Dog Day Afternoon',\n",
              "       'Jaws', 'Zootopia', 'Guardians of the Galaxy Vol. 2',\n",
              "       'Pirates of the Caribbean: The Curse of the Black Pearl',\n",
              "       'Before Sunset', 'The Imitation Game', 'Young Frankenstein',\n",
              "       'Stalag 17', 'Dogville', 'Dead Poets Society', 'High Noon',\n",
              "       'Papillon', 'A Streetcar Named Desire', 'Arsenic and Old Lace',\n",
              "       'Sin City', 'The Hustler', 'A Night at the Opera', 'The Killing',\n",
              "       'The Avengers', 'Notorious', 'Harvey', 'The Martian',\n",
              "       'The Exorcist', 'Rio Bravo', 'The Philadelphia Story', 'Rope',\n",
              "       'The Big Sleep', 'Pink Floyd: The Wall', \"The King's Speech\",\n",
              "       'A Christmas Story', 'The Graduate', 'JFK', 'Sling Blade',\n",
              "       'Blood Diamond', 'Magnolia', 'Rain Man', 'The Revenant',\n",
              "       'The Nightmare Before Christmas', 'The Manchurian Candidate',\n",
              "       'Deadpool', 'The Wild Bunch', 'Aladdin', 'Big Fish', 'Patton',\n",
              "       'The Lost Weekend', 'Short Term 12', 'His Girl Friday',\n",
              "       'The Straight Story', 'Slumdog Millionaire'], dtype=object)"
            ]
          },
          "metadata": {
            "tags": []
          },
          "execution_count": 45
        }
      ]
    },
    {
      "cell_type": "markdown",
      "metadata": {
        "id": "UkCRIEXN1nZp"
      },
      "source": [
        "## Recommend the film"
      ]
    },
    {
      "cell_type": "code",
      "metadata": {
        "id": "oPoab_JjwIHq"
      },
      "source": [
        "def recommend_film(film, cosine_matrix, k):\n",
        "    if film in corpus['bag_of_contents'].index:\n",
        "        idx = np.where(corpus['bag_of_contents'].index == film)[0][0]\n",
        "\n",
        "     # creating a Series with the similarity scores in descending order\n",
        "        top_k_list = pd.Series(cosine_matrix[idx]).sort_values(ascending = False)[1:k+1].index\n",
        "        \n",
        "        return list(corpus['bag_of_contents'].iloc[top_k_list].index)\n",
        "    else:\n",
        "        print('Movie does not exist.')"
      ],
      "execution_count": 46,
      "outputs": []
    },
    {
      "cell_type": "markdown",
      "metadata": {
        "id": "5CJZgeO0GMGY"
      },
      "source": [
        "# Comparison to Sci-kit Learn Library"
      ]
    },
    {
      "cell_type": "code",
      "metadata": {
        "id": "ZAoNATpdFxFa",
        "outputId": "4d6ee921-190c-4456-a5ba-1b5a2bbf7b74",
        "colab": {
          "base_uri": "https://localhost:8080/",
          "height": 150
        }
      },
      "source": [
        "recommend_film(\"The Maltese Falcon\", cosine_matrix = cosine_sim, k=8)"
      ],
      "execution_count": 47,
      "outputs": [
        {
          "output_type": "execute_result",
          "data": {
            "text/plain": [
              "['Chinatown',\n",
              " 'The Big Sleep',\n",
              " 'The Treasure of the Sierra Madre',\n",
              " 'Guardians of the Galaxy',\n",
              " 'Scarface',\n",
              " 'Pirates of the Caribbean: The Curse of the Black Pearl',\n",
              " 'Laura',\n",
              " 'The Best Years of Our Lives']"
            ]
          },
          "metadata": {
            "tags": []
          },
          "execution_count": 47
        }
      ]
    },
    {
      "cell_type": "code",
      "metadata": {
        "id": "SsiOOj9dy4hJ",
        "outputId": "ce88025b-9226-4af7-85f7-6ac23f4c300e",
        "colab": {
          "base_uri": "https://localhost:8080/",
          "height": 150
        }
      },
      "source": [
        "recommend_film(\"Schindler's List\", cosine_matrix = cosine_sim, k=8)"
      ],
      "execution_count": 48,
      "outputs": [
        {
          "output_type": "execute_result",
          "data": {
            "text/plain": [
              "['Patton',\n",
              " 'The Great Escape',\n",
              " 'The Best Years of Our Lives',\n",
              " 'The Imitation Game',\n",
              " 'Gandhi',\n",
              " 'The Grand Budapest Hotel',\n",
              " 'The Pianist',\n",
              " 'Shutter Island']"
            ]
          },
          "metadata": {
            "tags": []
          },
          "execution_count": 48
        }
      ]
    },
    {
      "cell_type": "code",
      "metadata": {
        "id": "toSSmLRKApEO"
      },
      "source": [
        "from sklearn.metrics.pairwise import cosine_similarity\n",
        "cos_matrix = cosine_similarity(vector.T)"
      ],
      "execution_count": 49,
      "outputs": []
    },
    {
      "cell_type": "code",
      "metadata": {
        "id": "ZAxLo4a3ARI3",
        "outputId": "0bbd5157-6ff0-4622-b14e-5e1bb60ab57f",
        "colab": {
          "base_uri": "https://localhost:8080/",
          "height": 150
        }
      },
      "source": [
        "recommend_film(\"The Maltese Falcon\", cosine_matrix = cos_matrix, k=8)"
      ],
      "execution_count": 50,
      "outputs": [
        {
          "output_type": "execute_result",
          "data": {
            "text/plain": [
              "['Chinatown',\n",
              " 'The Big Sleep',\n",
              " 'The Treasure of the Sierra Madre',\n",
              " 'Guardians of the Galaxy',\n",
              " 'Scarface',\n",
              " 'Pirates of the Caribbean: The Curse of the Black Pearl',\n",
              " 'Laura',\n",
              " 'The Best Years of Our Lives']"
            ]
          },
          "metadata": {
            "tags": []
          },
          "execution_count": 50
        }
      ]
    },
    {
      "cell_type": "code",
      "metadata": {
        "id": "xPQTceZMTxAl",
        "outputId": "17259a87-5008-4676-e3ea-8749deaf0ca8",
        "colab": {
          "base_uri": "https://localhost:8080/",
          "height": 150
        }
      },
      "source": [
        "recommend_film(\"Schindler's List\", cosine_matrix = cos_matrix, k=8)"
      ],
      "execution_count": 51,
      "outputs": [
        {
          "output_type": "execute_result",
          "data": {
            "text/plain": [
              "['Patton',\n",
              " 'The Great Escape',\n",
              " 'The Best Years of Our Lives',\n",
              " 'The Imitation Game',\n",
              " 'Gandhi',\n",
              " 'The Grand Budapest Hotel',\n",
              " 'The Pianist',\n",
              " 'Shutter Island']"
            ]
          },
          "metadata": {
            "tags": []
          },
          "execution_count": 51
        }
      ]
    },
    {
      "cell_type": "code",
      "metadata": {
        "id": "UOJOwSocAdx4"
      },
      "source": [
        ""
      ],
      "execution_count": null,
      "outputs": []
    }
  ]
}